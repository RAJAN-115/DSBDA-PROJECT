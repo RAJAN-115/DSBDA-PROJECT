{
 "cells": [
  {
   "cell_type": "code",
   "execution_count": 1,
   "metadata": {},
   "outputs": [],
   "source": [
    "import pandas as pd\n",
    "from sklearn.feature_extraction.text import TfidfVectorizer\n",
    "from sklearn.metrics.pairwise import cosine_similarity"
   ]
  },
  {
   "cell_type": "code",
   "execution_count": 2,
   "metadata": {},
   "outputs": [],
   "source": [
    "# Load the movie dataset\n",
    "movies_df = pd.read_csv('https://raw.githubusercontent.com/rashida048/Some-NLP-Projects/master/movie_dataset.csv')"
   ]
  },
  {
   "cell_type": "code",
   "execution_count": 3,
   "metadata": {},
   "outputs": [],
   "source": [
    "# Select relevant features\n",
    "features = ['keywords', 'cast', 'genres', 'director']"
   ]
  },
  {
   "cell_type": "code",
   "execution_count": 4,
   "metadata": {},
   "outputs": [],
   "source": [
    "# Replace missing values with empty strings\n",
    "for feature in features:\n",
    "    movies_df[feature] = movies_df[feature].fillna('')"
   ]
  },
  {
   "cell_type": "code",
   "execution_count": 5,
   "metadata": {},
   "outputs": [],
   "source": [
    "# Create a combined feature column\n",
    "movies_df['combined_features'] = movies_df.apply(lambda row: ' '.join(row[feature] for feature in features), axis=1)"
   ]
  },
  {
   "cell_type": "code",
   "execution_count": 6,
   "metadata": {},
   "outputs": [],
   "source": [
    "# Calculate the cosine similarity matrix\n",
    "tfidf = TfidfVectorizer()\n",
    "tfidf_matrix = tfidf.fit_transform(movies_df['combined_features'])\n",
    "cosine_sim = cosine_similarity(tfidf_matrix)"
   ]
  },
  {
   "cell_type": "code",
   "execution_count": 7,
   "metadata": {},
   "outputs": [],
   "source": [
    "# Define a function to get movie recommendations\n",
    "def get_recommendations(movie_title, cosine_sim=cosine_sim):\n",
    "    idx = movies_df[movies_df['title'] == movie_title].index[0]\n",
    "    sim_scores = list(enumerate(cosine_sim[idx]))\n",
    "    sim_scores = sorted(sim_scores, key=lambda x: x[1], reverse=True)\n",
    "    sim_scores = sim_scores[1:11]\n",
    "    movie_indices = [i[0] for i in sim_scores]\n",
    "    return movies_df['title'].iloc[movie_indices]\n"
   ]
  },
  {
   "cell_type": "code",
   "execution_count": 9,
   "metadata": {},
   "outputs": [
    {
     "name": "stdout",
     "output_type": "stream",
     "text": [
      "119                Batman Begins\n",
      "65               The Dark Knight\n",
      "1196                The Prestige\n",
      "428               Batman Returns\n",
      "95                  Interstellar\n",
      "1359                      Batman\n",
      "210               Batman & Robin\n",
      "4638    Amidst the Devil's Wings\n",
      "813                     Superman\n",
      "1013                    Child 44\n",
      "Name: title, dtype: object\n",
      "867     The Godfather: Part III\n",
      "2731     The Godfather: Part II\n",
      "1525             Apocalypse Now\n",
      "1408                     Closer\n",
      "1874                August Rush\n",
      "3450            West Side Story\n",
      "2674             Stomp the Yard\n",
      "3743          Leaving Las Vegas\n",
      "4467          American Graffiti\n",
      "1061              Love Actually\n",
      "Name: title, dtype: object\n",
      "94      Guardians of the Galaxy\n",
      "2403                     Aliens\n",
      "3158                      Alien\n",
      "47      Star Trek Into Darkness\n",
      "1053               Galaxy Quest\n",
      "56             Star Trek Beyond\n",
      "838                      Alien³\n",
      "239                     Gravity\n",
      "2696                    Jason X\n",
      "3730                      Cargo\n",
      "Name: title, dtype: object\n"
     ]
    }
   ],
   "source": [
    "# Test the function with some movie titles\n",
    "print(get_recommendations('The Dark Knight Rises'))\n",
    "print(get_recommendations('The Godfather'))\n",
    "print(get_recommendations('Avatar'))"
   ]
  }
 ],
 "metadata": {
  "kernelspec": {
   "display_name": "Python 3",
   "language": "python",
   "name": "python3"
  },
  "language_info": {
   "codemirror_mode": {
    "name": "ipython",
    "version": 3
   },
   "file_extension": ".py",
   "mimetype": "text/x-python",
   "name": "python",
   "nbconvert_exporter": "python",
   "pygments_lexer": "ipython3",
   "version": "3.11.1"
  },
  "orig_nbformat": 4
 },
 "nbformat": 4,
 "nbformat_minor": 2
}
